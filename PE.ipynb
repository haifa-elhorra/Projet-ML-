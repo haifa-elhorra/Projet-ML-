{
 "cells": [
  {
   "cell_type": "code",
   "execution_count": 1,
   "id": "d4d2fabe-704f-456f-9340-c3009a7b58c8",
   "metadata": {},
   "outputs": [],
   "source": [
    "import pandas as pd \n",
    "# importer la bib pandas"
   ]
  },
  {
   "cell_type": "code",
   "execution_count": 2,
   "id": "59b9badc-8623-43e2-9410-1a04ec5265e6",
   "metadata": {
    "scrolled": true
   },
   "outputs": [],
   "source": [
    "df = pd.read_csv('C:/Users/Haifa Elhorra/Desktop/ML/Projet_ML/DATAset/data.csv', sep='|')\n",
    "# Importer le fichier CSV contenant le dataset en spécifiant le séparateur \"|\" pour lire correctement les colonnes"
   ]
  },
  {
   "cell_type": "code",
   "execution_count": 3,
   "id": "79426243-8c07-4260-96fa-8f1454df0cdf",
   "metadata": {},
   "outputs": [],
   "source": [
    "legit = df['legitimate']\n",
    "# Extraire la colonne des labels (légitime ou non)"
   ]
  },
  {
   "cell_type": "code",
   "execution_count": 4,
   "id": "085b3757-9ae1-4b72-91ce-8408c3aceaf0",
   "metadata": {},
   "outputs": [],
   "source": [
    "X = df.drop(['Name','md5','legitimate'],axis=1).values\n",
    "y = legit\n",
    "# Séparer les caractéristiques (X) et les labels (y)"
   ]
  },
  {
   "cell_type": "code",
   "execution_count": 5,
   "id": "42d46e7e-163b-4bbb-9a57-80b257b49fd9",
   "metadata": {},
   "outputs": [],
   "source": [
    "import sklearn.ensemble as ek # Pour le classificateur Extra Trees\n",
    "from sklearn.feature_selection import SelectFromModel # Pour la sélection des caractéristiques\n",
    "extratrees = ek.ExtraTreesClassifier().fit(X,y)  #Le classificateur calcule l'importance de chaque caractéristique.\n",
    "model = SelectFromModel(extratrees, prefit=True) #Sélectionner les caractéristiques importantes \n",
    "X_new = model.transform(X) #Le nouvel ensemble ne contient que les colonnes correspondant aux caractéristiques importantes."
   ]
  },
  {
   "cell_type": "code",
   "execution_count": 6,
   "id": "8357d66b-5a59-4379-a357-fcccfe801f80",
   "metadata": {},
   "outputs": [
    {
     "name": "stdout",
     "output_type": "stream",
     "text": [
      "13\n"
     ]
    }
   ],
   "source": [
    "nbfeatures = X_new.shape[1] #Obtenir le nombre de caractéristiques sélectionnées\n",
    "print(nbfeatures) # Afficher le nombre de caractéristiques sélectionnées"
   ]
  },
  {
   "cell_type": "code",
   "execution_count": 7,
   "id": "bddc5616-1414-4334-8625-94f9eca8cd85",
   "metadata": {},
   "outputs": [
    {
     "name": "stdout",
     "output_type": "stream",
     "text": [
      "1. feature DllCharacteristics (0.149589)\n",
      "2. feature Machine (0.116449)\n",
      "3. feature Characteristics (0.113833)\n",
      "4. feature VersionInformationSize (0.070311)\n",
      "5. feature SectionsMaxEntropy (0.067852)\n",
      "6. feature Subsystem (0.064490)\n",
      "7. feature MajorSubsystemVersion (0.061050)\n",
      "8. feature ResourcesMaxEntropy (0.045909)\n",
      "9. feature ImageBase (0.044428)\n",
      "10. feature ResourcesMinEntropy (0.027495)\n",
      "11. feature MajorOperatingSystemVersion (0.023474)\n",
      "12. feature SizeOfStackReserve (0.021556)\n",
      "13. feature SizeOfOptionalHeader (0.018541)\n"
     ]
    }
   ],
   "source": [
    "import numpy # Importer la bibliothèque numpy\n",
    "features = [] # Initialiser une liste vide pour stocker les noms des caractéristiques sélectionnées.\n",
    "index = numpy.argsort(extratrees.feature_importances_)[::-1][:nbfeatures]  \n",
    "# Trier les indices des caractéristiques par importance (ordre décroissant).\n",
    "# Conserver uniquement les `13` premières caractéristiques.\n",
    "for f in range(nbfeatures):  # Boucle pour parcourir les `13` premières caractéristiques importantes.\n",
    "    print(\"%d. feature %s (%f)\" % (f + 1, df.columns[2+index[f]], extratrees.feature_importances_[index[f]]))\n",
    "    # Afficher le rang, le nom et l'importance de chaque caractéristique.\n",
    "    features.append(df.columns[2+f])\n",
    "    # Ajouter le nom de la caractéristique sélectionnée à la liste `features`."
   ]
  },
  {
   "cell_type": "code",
   "execution_count": 8,
   "id": "c5674fe4-3fdd-44f0-85a0-330b87fe6b82",
   "metadata": {},
   "outputs": [],
   "source": [
    "from sklearn.model_selection import train_test_split\n",
    "X_train, X_test, y_train, y_test = train_test_split(X_new, y ,test_size=0.2, stratify = y)\n",
    "#Indique que 20 % des données doivent être utilisées pour l'ensemble de test, laissant 80 % pour l'entraînement."
   ]
  },
  {
   "cell_type": "code",
   "execution_count": 9,
   "id": "a9e0dc66-832a-4a62-b26b-459fb2f0e011",
   "metadata": {},
   "outputs": [
    {
     "name": "stdout",
     "output_type": "stream",
     "text": [
      "DecisionTree: 0.9906079832142679\n",
      "RandomForest: 0.9941299895089174\n",
      "Using RandomForest for classification with 13 features.\n"
     ]
    }
   ],
   "source": [
    "from sklearn.tree import DecisionTreeClassifier # Importer la classe pour construire un arbre de décision.\n",
    "from sklearn.ensemble import RandomForestClassifier # Importer la classe pour construire une forêt aléatoire.\n",
    "\n",
    "decision_tree = DecisionTreeClassifier(max_depth=10) # Créer un modèle d'arbre de décision avec une profondeur maximale de 10.  \n",
    "decision_tree.fit(X_train, y_train) # Entraîner l'arbre de décision avec les données d'entraînement.\n",
    "dt_score = decision_tree.score(X_test, y_test) # Calculer l'exactitude (accuracy) de l'arbre de décision sur les données de test.\n",
    "print(\"DecisionTree: %s\" % dt_score) # Afficher le score de l'arbre de décision.\n",
    "\n",
    "random_forest = RandomForestClassifier(n_estimators=50) # Créer un modèle de forêt aléatoire avec 50 arbres.\n",
    "random_forest.fit(X_train, y_train) # Entraîner la forêt aléatoire avec les données d'entraînement.\n",
    "rf_score = random_forest.score(X_test, y_test) # Calculer l'exactitude (accuracy) de la forêt aléatoire sur les données de test.\n",
    "print(\"RandomForest: %s\" % rf_score) # Afficher le score de la forêt aléatoire.\n",
    "\n",
    "if dt_score > rf_score:     # Comparer les scores des deux modèles.\n",
    "    print(\"Using DecisionTree for classification with\", len(features), \"features.\")\n",
    "        # Si l'arbre de décision a le meilleur score, afficher un message.\n",
    "    winner = \"Decision Tree\"\n",
    "        # Stocker le nom du modèle gagnant.\n",
    "else:\n",
    "    print(\"Using RandomForest for classification with\", len(features), \"features.\")\n",
    "        # Si la forêt aléatoire a le meilleur score ou est égale.\n",
    "    winner = \"Random Forest\" \n",
    "        # Stocker le nom du modèle gagnant.\n"
   ]
  },
  {
   "cell_type": "code",
   "execution_count": 10,
   "id": "f71ded66-fde9-43c7-adf0-3d8c4b2404e8",
   "metadata": {},
   "outputs": [
    {
     "name": "stdout",
     "output_type": "stream",
     "text": [
      "Classifier and features saved successfully!\n"
     ]
    }
   ],
   "source": [
    "import pickle # Importer le module pickle pour sauvegarder des objets Python.\n",
    "import joblib # Importer le module joblib pour sauvegarder des modèles plus efficacement.\n",
    "\n",
    "classifier = model # Assigner le modèle entraîné à la variable `classifier`.\n",
    "features = X_train.columns if hasattr(X_train, 'columns') else [f\"feature_{i}\" for i in range(len(X_train[0]))]\n",
    "# Vérifier si `X_train` a des noms de colonnes.  \n",
    "# Si oui, les utiliser comme noms des caractéristiques. Sinon, générer des noms.\n",
    "joblib.dump(classifier, r'C:\\Users\\Haifa Elhorra\\Desktop\\ML\\Projet_ML\\version final\\classifier.pkl')\n",
    "# Sauvegarder le modèle `classifier` dans un fichier nommé `classifier.pkl`.\n",
    "with open(r'C:\\Users\\Haifa Elhorra\\Desktop\\ML\\Projet_ML\\version final\\features.pkl', 'wb') as f:\n",
    "    # Ouvrir un fichier nommé `features.pkl` en mode écriture binaire.  \n",
    "    pickle.dump(features, f)\n",
    "    # Sauvegarder la liste des caractéristiques dans ce fichier.\n",
    "print(\"Classifier and features saved successfully!\") \n",
    "# Afficher un message de confirmation une fois les fichiers sauvegardés."
   ]
  },
  {
   "cell_type": "code",
   "execution_count": 11,
   "id": "10b1481b-c564-4548-b610-ea413fdf7787",
   "metadata": {},
   "outputs": [
    {
     "name": "stdout",
     "output_type": "stream",
     "text": [
      "2.18.0\n"
     ]
    }
   ],
   "source": [
    "import tensorflow as tf\n",
    "print(tf.__version__)"
   ]
  },
  {
   "cell_type": "code",
   "execution_count": 12,
   "id": "9d0ffb61-1105-47ee-9750-4641ad574974",
   "metadata": {},
   "outputs": [],
   "source": [
    "import tensorflow as tf # Importation de TensorFlow pour construire le réseau de neurones\n",
    "from tensorflow.keras.models import Sequential # Importation du modèle séquentiel de Keras (un modèle où les couches sont empilées les unes après les autres)\n",
    "from tensorflow.keras.layers import Dense, Input # Importation de la couche Dense (couches entièrement connectées du réseau) et Input pour définir nbr des caractéristiques de couche d'entréé"
   ]
  },
  {
   "cell_type": "code",
   "execution_count": 13,
   "id": "bba98522-79ba-4ed1-bc5b-96b1482835b5",
   "metadata": {},
   "outputs": [
    {
     "data": {
      "text/html": [
       "<pre style=\"white-space:pre;overflow-x:auto;line-height:normal;font-family:Menlo,'DejaVu Sans Mono',consolas,'Courier New',monospace\"><span style=\"font-weight: bold\">Model: \"sequential\"</span>\n",
       "</pre>\n"
      ],
      "text/plain": [
       "\u001b[1mModel: \"sequential\"\u001b[0m\n"
      ]
     },
     "metadata": {},
     "output_type": "display_data"
    },
    {
     "data": {
      "text/html": [
       "<pre style=\"white-space:pre;overflow-x:auto;line-height:normal;font-family:Menlo,'DejaVu Sans Mono',consolas,'Courier New',monospace\">┏━━━━━━━━━━━━━━━━━━━━━━━━━━━━━━━━━━━━━━┳━━━━━━━━━━━━━━━━━━━━━━━━━━━━━┳━━━━━━━━━━━━━━━━━┓\n",
       "┃<span style=\"font-weight: bold\"> Layer (type)                         </span>┃<span style=\"font-weight: bold\"> Output Shape                </span>┃<span style=\"font-weight: bold\">         Param # </span>┃\n",
       "┡━━━━━━━━━━━━━━━━━━━━━━━━━━━━━━━━━━━━━━╇━━━━━━━━━━━━━━━━━━━━━━━━━━━━━╇━━━━━━━━━━━━━━━━━┩\n",
       "│ dense (<span style=\"color: #0087ff; text-decoration-color: #0087ff\">Dense</span>)                        │ (<span style=\"color: #00d7ff; text-decoration-color: #00d7ff\">None</span>, <span style=\"color: #00af00; text-decoration-color: #00af00\">16</span>)                  │             <span style=\"color: #00af00; text-decoration-color: #00af00\">224</span> │\n",
       "├──────────────────────────────────────┼─────────────────────────────┼─────────────────┤\n",
       "│ dense_1 (<span style=\"color: #0087ff; text-decoration-color: #0087ff\">Dense</span>)                      │ (<span style=\"color: #00d7ff; text-decoration-color: #00d7ff\">None</span>, <span style=\"color: #00af00; text-decoration-color: #00af00\">8</span>)                   │             <span style=\"color: #00af00; text-decoration-color: #00af00\">136</span> │\n",
       "├──────────────────────────────────────┼─────────────────────────────┼─────────────────┤\n",
       "│ dense_2 (<span style=\"color: #0087ff; text-decoration-color: #0087ff\">Dense</span>)                      │ (<span style=\"color: #00d7ff; text-decoration-color: #00d7ff\">None</span>, <span style=\"color: #00af00; text-decoration-color: #00af00\">4</span>)                   │              <span style=\"color: #00af00; text-decoration-color: #00af00\">36</span> │\n",
       "├──────────────────────────────────────┼─────────────────────────────┼─────────────────┤\n",
       "│ dense_3 (<span style=\"color: #0087ff; text-decoration-color: #0087ff\">Dense</span>)                      │ (<span style=\"color: #00d7ff; text-decoration-color: #00d7ff\">None</span>, <span style=\"color: #00af00; text-decoration-color: #00af00\">1</span>)                   │               <span style=\"color: #00af00; text-decoration-color: #00af00\">5</span> │\n",
       "└──────────────────────────────────────┴─────────────────────────────┴─────────────────┘\n",
       "</pre>\n"
      ],
      "text/plain": [
       "┏━━━━━━━━━━━━━━━━━━━━━━━━━━━━━━━━━━━━━━┳━━━━━━━━━━━━━━━━━━━━━━━━━━━━━┳━━━━━━━━━━━━━━━━━┓\n",
       "┃\u001b[1m \u001b[0m\u001b[1mLayer (type)                        \u001b[0m\u001b[1m \u001b[0m┃\u001b[1m \u001b[0m\u001b[1mOutput Shape               \u001b[0m\u001b[1m \u001b[0m┃\u001b[1m \u001b[0m\u001b[1m        Param #\u001b[0m\u001b[1m \u001b[0m┃\n",
       "┡━━━━━━━━━━━━━━━━━━━━━━━━━━━━━━━━━━━━━━╇━━━━━━━━━━━━━━━━━━━━━━━━━━━━━╇━━━━━━━━━━━━━━━━━┩\n",
       "│ dense (\u001b[38;5;33mDense\u001b[0m)                        │ (\u001b[38;5;45mNone\u001b[0m, \u001b[38;5;34m16\u001b[0m)                  │             \u001b[38;5;34m224\u001b[0m │\n",
       "├──────────────────────────────────────┼─────────────────────────────┼─────────────────┤\n",
       "│ dense_1 (\u001b[38;5;33mDense\u001b[0m)                      │ (\u001b[38;5;45mNone\u001b[0m, \u001b[38;5;34m8\u001b[0m)                   │             \u001b[38;5;34m136\u001b[0m │\n",
       "├──────────────────────────────────────┼─────────────────────────────┼─────────────────┤\n",
       "│ dense_2 (\u001b[38;5;33mDense\u001b[0m)                      │ (\u001b[38;5;45mNone\u001b[0m, \u001b[38;5;34m4\u001b[0m)                   │              \u001b[38;5;34m36\u001b[0m │\n",
       "├──────────────────────────────────────┼─────────────────────────────┼─────────────────┤\n",
       "│ dense_3 (\u001b[38;5;33mDense\u001b[0m)                      │ (\u001b[38;5;45mNone\u001b[0m, \u001b[38;5;34m1\u001b[0m)                   │               \u001b[38;5;34m5\u001b[0m │\n",
       "└──────────────────────────────────────┴─────────────────────────────┴─────────────────┘\n"
      ]
     },
     "metadata": {},
     "output_type": "display_data"
    },
    {
     "data": {
      "text/html": [
       "<pre style=\"white-space:pre;overflow-x:auto;line-height:normal;font-family:Menlo,'DejaVu Sans Mono',consolas,'Courier New',monospace\"><span style=\"font-weight: bold\"> Total params: </span><span style=\"color: #00af00; text-decoration-color: #00af00\">401</span> (1.57 KB)\n",
       "</pre>\n"
      ],
      "text/plain": [
       "\u001b[1m Total params: \u001b[0m\u001b[38;5;34m401\u001b[0m (1.57 KB)\n"
      ]
     },
     "metadata": {},
     "output_type": "display_data"
    },
    {
     "data": {
      "text/html": [
       "<pre style=\"white-space:pre;overflow-x:auto;line-height:normal;font-family:Menlo,'DejaVu Sans Mono',consolas,'Courier New',monospace\"><span style=\"font-weight: bold\"> Trainable params: </span><span style=\"color: #00af00; text-decoration-color: #00af00\">401</span> (1.57 KB)\n",
       "</pre>\n"
      ],
      "text/plain": [
       "\u001b[1m Trainable params: \u001b[0m\u001b[38;5;34m401\u001b[0m (1.57 KB)\n"
      ]
     },
     "metadata": {},
     "output_type": "display_data"
    },
    {
     "data": {
      "text/html": [
       "<pre style=\"white-space:pre;overflow-x:auto;line-height:normal;font-family:Menlo,'DejaVu Sans Mono',consolas,'Courier New',monospace\"><span style=\"font-weight: bold\"> Non-trainable params: </span><span style=\"color: #00af00; text-decoration-color: #00af00\">0</span> (0.00 B)\n",
       "</pre>\n"
      ],
      "text/plain": [
       "\u001b[1m Non-trainable params: \u001b[0m\u001b[38;5;34m0\u001b[0m (0.00 B)\n"
      ]
     },
     "metadata": {},
     "output_type": "display_data"
    }
   ],
   "source": [
    "model = Sequential()\n",
    "# Définir le modèle séquentiel\n",
    "model.add(Input(shape=(13,)))\n",
    "# Ajouter une couche d'entrée avec 13 caractéristiques\n",
    "model.add(Dense(16, activation=\"relu\"))\n",
    "# Ajout de la première couche Dense avec 16 neurones, activation ReLU\n",
    "model.add(Dense(8, activation= \"relu\"))\n",
    "# Ajout de la deuxième couche Dense avec 8 neurones et activation ReLU\n",
    "model.add(Dense(4, activation= \"relu\"))\n",
    "# Ajout de la troisième couche Dense avec 4 neurones et activation ReLU\n",
    "model.add(Dense(1, activation='sigmoid'))\n",
    "# Ajouter une couche de sortie avec une activation sigmoïde pour la classification binaire\n",
    "model.summary()\n",
    "# Afficher le résumé du modèle"
   ]
  },
  {
   "cell_type": "code",
   "execution_count": 14,
   "id": "42cec55d-502c-4924-914d-5b7e8d35d1d3",
   "metadata": {},
   "outputs": [],
   "source": [
    "model.compile(loss= \"binary_crossentropy\" , optimizer=\"rmsprop\", metrics=[\"accuracy\"])\n",
    "# Compilation du modèle avec une fonction de perte binaire, un optimiseur RMSprop, et la précision comme métrique"
   ]
  },
  {
   "cell_type": "code",
   "execution_count": 15,
   "id": "b9c6939f-d607-4fae-bba4-2800d11dea15",
   "metadata": {
    "scrolled": true
   },
   "outputs": [
    {
     "name": "stdout",
     "output_type": "stream",
     "text": [
      "Epoch 1/5\n",
      "\u001b[1m3063/3063\u001b[0m \u001b[32m━━━━━━━━━━━━━━━━━━━━\u001b[0m\u001b[37m\u001b[0m \u001b[1m4s\u001b[0m 1ms/step - accuracy: 0.6684 - loss: 134752.7812\n",
      "Epoch 2/5\n",
      "\u001b[1m3063/3063\u001b[0m \u001b[32m━━━━━━━━━━━━━━━━━━━━\u001b[0m\u001b[37m\u001b[0m \u001b[1m3s\u001b[0m 1ms/step - accuracy: 0.6985 - loss: 0.6427\n",
      "Epoch 3/5\n",
      "\u001b[1m3063/3063\u001b[0m \u001b[32m━━━━━━━━━━━━━━━━━━━━\u001b[0m\u001b[37m\u001b[0m \u001b[1m3s\u001b[0m 1ms/step - accuracy: 0.7000 - loss: 0.6582\n",
      "Epoch 4/5\n",
      "\u001b[1m3063/3063\u001b[0m \u001b[32m━━━━━━━━━━━━━━━━━━━━\u001b[0m\u001b[37m\u001b[0m \u001b[1m3s\u001b[0m 1ms/step - accuracy: 0.7006 - loss: 0.6376\n",
      "Epoch 5/5\n",
      "\u001b[1m3063/3063\u001b[0m \u001b[32m━━━━━━━━━━━━━━━━━━━━\u001b[0m\u001b[37m\u001b[0m \u001b[1m3s\u001b[0m 1000us/step - accuracy: 0.6998 - loss: 0.6340\n"
     ]
    },
    {
     "data": {
      "text/plain": [
       "<keras.src.callbacks.history.History at 0x1da40daffe0>"
      ]
     },
     "execution_count": 15,
     "metadata": {},
     "output_type": "execute_result"
    }
   ],
   "source": [
    "model.fit(X_train, y_train, epochs=5, batch_size=32)\n",
    "# Entraînement du modèle sur les données d'entraînement (5 époques, taille de lot de 32)"
   ]
  },
  {
   "cell_type": "code",
   "execution_count": 16,
   "id": "193a7aeb-b812-4fd0-89b4-dec85f8a8a33",
   "metadata": {},
   "outputs": [
    {
     "name": "stdout",
     "output_type": "stream",
     "text": [
      "\u001b[1m3063/3063\u001b[0m \u001b[32m━━━━━━━━━━━━━━━━━━━━\u001b[0m\u001b[37m\u001b[0m \u001b[1m2s\u001b[0m 495us/step\n"
     ]
    },
    {
     "data": {
      "text/plain": [
       "0.7006519543325885"
      ]
     },
     "execution_count": 16,
     "metadata": {},
     "output_type": "execute_result"
    }
   ],
   "source": [
    "from sklearn.metrics import accuracy_score \n",
    "# Accuracy on the training dataset\n",
    "trainPred=model.predict(X_train) # Prédiction des probabilités pour les données d'entraînement\n",
    "trainPred=[1 if y>= 0.5 else 0   for y in trainPred] # Conversion des probabilités en classes binaires (1 si >= 0,5, sinon 0)\n",
    "accuracy_score(y_train,trainPred) # Calcul de la précision des prédictions sur les données d'entraînement"
   ]
  },
  {
   "cell_type": "code",
   "execution_count": 17,
   "id": "c1aa934f-7c24-483c-855e-fed525a4b6be",
   "metadata": {},
   "outputs": [
    {
     "name": "stdout",
     "output_type": "stream",
     "text": [
      "\u001b[1m1252/1252\u001b[0m \u001b[32m━━━━━━━━━━━━━━━━━━━━\u001b[0m\u001b[37m\u001b[0m \u001b[1m1s\u001b[0m 512us/step\n"
     ]
    },
    {
     "data": {
      "text/plain": [
       "0.7006544437228356"
      ]
     },
     "execution_count": 17,
     "metadata": {},
     "output_type": "execute_result"
    }
   ],
   "source": [
    "# Accuracy on the test dataset\n",
    "y_prediction=model.predict(X_test) # Prédiction des probabilités pour les données de test\n",
    "y_prediction=[1 if y>= 0.5 else 0   for y in y_prediction] # Conversion des probabilités en classes binaires pour les données de test\n",
    "accuracy_score(y_test, y_prediction) # Calcul de la précision des prédictions sur les données de test"
   ]
  },
  {
   "cell_type": "code",
   "execution_count": 39,
   "id": "72883520-f609-4a6c-b768-52c175b52502",
   "metadata": {},
   "outputs": [],
   "source": [
    "model.save('dl_pe.keras')\n",
    "# Sauvegarder le modèle entraîné\n"
   ]
  }
 ],
 "metadata": {
  "kernelspec": {
   "display_name": "Python 3 (ipykernel)",
   "language": "python",
   "name": "python3"
  },
  "language_info": {
   "codemirror_mode": {
    "name": "ipython",
    "version": 3
   },
   "file_extension": ".py",
   "mimetype": "text/x-python",
   "name": "python",
   "nbconvert_exporter": "python",
   "pygments_lexer": "ipython3",
   "version": "3.12.4"
  }
 },
 "nbformat": 4,
 "nbformat_minor": 5
}
