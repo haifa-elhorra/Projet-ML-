{
 "cells": [
  {
   "cell_type": "code",
   "execution_count": 12,
   "id": "8dc5893e-c675-40f1-a4aa-e7d97266e53e",
   "metadata": {},
   "outputs": [],
   "source": [
    "import pandas as pd\n",
    "url = 'C:/Users/Haifa Elhorra/Desktop/ML/Projet_ML/DATAset/data_url.csv' # Définir le chemin d'accès au fichier CSV contenant les données.\n",
    "url_csv = pd.read_csv(url, delimiter=',', on_bad_lines='skip')# Lire le fichier CSV en ignorant les lignes incorrectes ou mal formatées. Le délimiteur des colonnes est une virgule. "
   ]
  },
  {
   "cell_type": "code",
   "execution_count": 13,
   "id": "72d70ad1-df93-4ce2-99f2-e300a5166383",
   "metadata": {},
   "outputs": [],
   "source": [
    "url_df = pd.DataFrame(url_csv) # Convertir les données lues en un DataFrame pandas pour une manipulation plus facile."
   ]
  },
  {
   "cell_type": "code",
   "execution_count": 14,
   "id": "73b3fc49-4d55-4a9e-a28f-b3ad887d99d3",
   "metadata": {},
   "outputs": [],
   "source": [
    "import random\n",
    "import numpy as np # Importer la bibliothèque numpy pour le calcul et random pour générer de l'aléatoire.\n",
    "url_df = np.array(url_df)  # Convertir le DataFrame pandas en tableau numpy.\n",
    "random.shuffle(url_df) # Mélanger les lignes du tableau de manière aléatoire."
   ]
  },
  {
   "cell_type": "code",
   "execution_count": 15,
   "id": "02e403f1-b231-4b72-9a02-7a6de3176501",
   "metadata": {
    "scrolled": true
   },
   "outputs": [],
   "source": [
    "y = [d[1] for d in url_df]\n",
    "# Créer une liste contenant les valeurs de la cible colonne de chaque ligne.  \n",
    "urls = [d[0] for d in url_df]\n",
    "# Créer une liste contenant les valeurs des URLs colonne de chaque ligne. "
   ]
  },
  {
   "cell_type": "code",
   "execution_count": 16,
   "id": "c1460f84-4afa-4841-bd92-21b44ce50d14",
   "metadata": {},
   "outputs": [],
   "source": [
    "def sanitization(web): # Définir une fonction de nettoyage des données pour les URL.\n",
    "    web = web.lower()  # Convertir l'URL en minuscules pour standardiser les caractères.\n",
    "    token = [] # Initialiser une liste vide pour stocker les jetons (tokens) extraits.\n",
    "    dot_token_slash = [] # Initialiser une liste vide pour stocker les jetons avec des points et des barres obliques.\n",
    "    raw_slash = str(web).split('/') # Diviser l'URL en segments séparés par des '/'\n",
    "    for i in raw_slash: # Boucler à travers chaque segment de l'URL séparée par '/'\n",
    "        raw1 = str(i).split('-')  # Diviser chaque segment par des '-' pour extraire les sous-parties.\n",
    "        slash_token = [] # Initialiser une liste vide pour stocker les jetons de chaque segment.\n",
    "        for j in range(0,len(raw1)): # Boucler à travers chaque sous-partie extraite '-'\n",
    "            raw2 = str(raw1[j]).split('.') # Diviser chaque sous-partie par des '.' pour extraire des segments supplémentaires.\n",
    "            slash_token = slash_token + raw2  # Ajouter les segments divisés par point à la liste `slash_token`.\n",
    "        dot_token_slash = dot_token_slash + raw1 + slash_token  # Ajouter les segments séparés par tiret et les segments séparés par point à la liste `dot_token_slash`.\n",
    "    token = list(set(dot_token_slash))  # Créer une liste de jetons uniques à partir des segments extraits.\n",
    "    if 'com' in token:  # Vérifier si le jeton 'com' est présent dans la liste des jetons.\n",
    "        token.remove('com') # Supprimer le jeton 'com' s'il est présent dans la liste.\n",
    "    return token # Retourner la liste des jetons après nettoyage."
   ]
  },
  {
   "cell_type": "code",
   "execution_count": 26,
   "id": "7ff1baf0-4570-4b7a-8288-1497ff85c585",
   "metadata": {},
   "outputs": [],
   "source": [
    "from sklearn.feature_extraction.text import TfidfVectorizer # Importer le TfidfVectorizer pour transformer le texte en vecteurs numériques.\n",
    "vectorizer = TfidfVectorizer(tokenizer=sanitization) # Créer une instance de TfidfVectorizer en utilisant la fonction de nettoyage `sanitization` comme tokenizer."
   ]
  },
  {
   "cell_type": "code",
   "execution_count": 27,
   "id": "43875596-9159-42f4-a227-2dd97b88618c",
   "metadata": {},
   "outputs": [],
   "source": [
    "from sklearn.model_selection import train_test_split # Importer la fonction pour diviser les données en ensembles d'entraînement et de test.\n",
    "x = vectorizer.fit_transform(urls) # Appliquer le TfidfVectorizer aux URL pour obtenir des vecteurs de caractéristiques.\n",
    "x_train, x_test, y_train, y_test = train_test_split(x, y, test_size=0.2, random_state=42) # Diviser les vecteurs de caractéristiques `x` et les étiquettes `y` en ensembles d'entraînement (80%) et de test (20%)."
   ]
  },
  {
   "cell_type": "code",
   "execution_count": 28,
   "id": "0cba8b73-c449-4a82-80b4-ae4c6a53254e",
   "metadata": {},
   "outputs": [
    {
     "name": "stdout",
     "output_type": "stream",
     "text": [
      "accuracy: 0.9827\n"
     ]
    }
   ],
   "source": [
    "from sklearn.linear_model import LogisticRegression # Importer le modèle de régression logistique de la bibliothèque sklearn.\n",
    "lgr = LogisticRegression(solver='lbfgs', max_iter=1000)   # Créer une instance du modèle de régression logistique avec le solveur 'lbfgs' et un nombre maximal d'itérations de 1000.\n",
    "lgr.fit(x_train, y_train) # Entraîner le modèle de régression logistique avec les données d'entraînement (x_train et y_train).\n",
    "score = lgr.score(x_test, y_test) # Évaluer le modèle sur les données de test (x_test et y_test) et obtenir le score (exactitude).\n",
    "print(\"accuracy: {0:.4f}\".format(score))  # Afficher l'exactitude du modèle avec une précision de 4 décimales.\n",
    "vectorizer_save = vectorizer # Sauvegarder l'objet `vectorizer` (utilisé pour transformer le texte) dans une nouvelle variable `vectorizer_save`."
   ]
  },
  {
   "cell_type": "code",
   "execution_count": 29,
   "id": "8d3ef8d1-f366-4c66-a7ca-bdf11d5e99ae",
   "metadata": {},
   "outputs": [],
   "source": [
    "import pickle # Importer le module pickle pour la sérialisation et la sauvegarde d'objets Python.\n",
    "file = \"pickel_model.pkl\" # Définir le nom du fichier dans lequel le modèle sera sauvegardé.\n",
    "with open(file, 'wb') as f: # Ouvrir le fichier en mode binaire pour l'écriture.\n",
    "    pickle.dump(lgr, f) # Sauvegarder le modèle `lgr` dans le fichier.\n",
    "f.close() # Fermer le fichier après avoir sauvegardé le modèle.\n",
    "\n",
    "file2 = \"pickel_vector.pkl\" # Définir le nom du fichier pour sauvegarder le `vectorizer`.\n",
    "with open(file2,'wb') as f2:     # Ouvrir le fichier en mode binaire pour l'écriture.\n",
    "    pickle.dump(vectorizer_save, f2) # Sauvegarder l'objet `vectorizer_save` dans le fichier.\n",
    "f2.close() # Fermer le fichier après avoir sauvegardé le `vectorizer`."
   ]
  },
  {
   "cell_type": "code",
   "execution_count": null,
   "id": "413f9d26-c982-4b08-b82b-65db2d493e0a",
   "metadata": {},
   "outputs": [],
   "source": []
  }
 ],
 "metadata": {
  "kernelspec": {
   "display_name": "Python 3 (ipykernel)",
   "language": "python",
   "name": "python3"
  },
  "language_info": {
   "codemirror_mode": {
    "name": "ipython",
    "version": 3
   },
   "file_extension": ".py",
   "mimetype": "text/x-python",
   "name": "python",
   "nbconvert_exporter": "python",
   "pygments_lexer": "ipython3",
   "version": "3.12.4"
  }
 },
 "nbformat": 4,
 "nbformat_minor": 5
}
